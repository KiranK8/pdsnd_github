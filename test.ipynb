{
 "cells": [
  {
   "cell_type": "code",
   "execution_count": 2,
   "id": "72dd3a9f",
   "metadata": {},
   "outputs": [],
   "source": [
    "import time\n",
    "import pandas as pd\n",
    "import numpy as np"
   ]
  },
  {
   "cell_type": "code",
   "execution_count": 3,
   "id": "3c8a7ec8",
   "metadata": {},
   "outputs": [],
   "source": [
    "CITY_DATA = { 'chicago': 'chicago.csv',\n",
    "              'new york city': 'new_york_city.csv',\n",
    "              'washington': 'washington.csv' }"
   ]
  },
  {
   "cell_type": "code",
   "execution_count": 4,
   "id": "e0ddd27e",
   "metadata": {},
   "outputs": [],
   "source": [
    "chicago_csv = pd.read_csv('chicago.csv')"
   ]
  },
  {
   "cell_type": "code",
   "execution_count": 5,
   "id": "ebb9b15b",
   "metadata": {},
   "outputs": [],
   "source": [
    "chicago = pd.DataFrame(chicago_csv)"
   ]
  },
  {
   "cell_type": "code",
   "execution_count": 6,
   "id": "1256c572",
   "metadata": {},
   "outputs": [
    {
     "data": {
      "text/html": [
       "<div>\n",
       "<style scoped>\n",
       "    .dataframe tbody tr th:only-of-type {\n",
       "        vertical-align: middle;\n",
       "    }\n",
       "\n",
       "    .dataframe tbody tr th {\n",
       "        vertical-align: top;\n",
       "    }\n",
       "\n",
       "    .dataframe thead th {\n",
       "        text-align: right;\n",
       "    }\n",
       "</style>\n",
       "<table border=\"1\" class=\"dataframe\">\n",
       "  <thead>\n",
       "    <tr style=\"text-align: right;\">\n",
       "      <th></th>\n",
       "      <th>Unnamed: 0</th>\n",
       "      <th>Start Time</th>\n",
       "      <th>End Time</th>\n",
       "      <th>Trip Duration</th>\n",
       "      <th>Start Station</th>\n",
       "      <th>End Station</th>\n",
       "      <th>User Type</th>\n",
       "      <th>Gender</th>\n",
       "      <th>Birth Year</th>\n",
       "    </tr>\n",
       "  </thead>\n",
       "  <tbody>\n",
       "    <tr>\n",
       "      <th>0</th>\n",
       "      <td>1423854</td>\n",
       "      <td>2017-06-23 15:09:32</td>\n",
       "      <td>2017-06-23 15:14:53</td>\n",
       "      <td>321</td>\n",
       "      <td>Wood St &amp; Hubbard St</td>\n",
       "      <td>Damen Ave &amp; Chicago Ave</td>\n",
       "      <td>Subscriber</td>\n",
       "      <td>Male</td>\n",
       "      <td>1992.0</td>\n",
       "    </tr>\n",
       "    <tr>\n",
       "      <th>1</th>\n",
       "      <td>955915</td>\n",
       "      <td>2017-05-25 18:19:03</td>\n",
       "      <td>2017-05-25 18:45:53</td>\n",
       "      <td>1610</td>\n",
       "      <td>Theater on the Lake</td>\n",
       "      <td>Sheffield Ave &amp; Waveland Ave</td>\n",
       "      <td>Subscriber</td>\n",
       "      <td>Female</td>\n",
       "      <td>1992.0</td>\n",
       "    </tr>\n",
       "    <tr>\n",
       "      <th>2</th>\n",
       "      <td>9031</td>\n",
       "      <td>2017-01-04 08:27:49</td>\n",
       "      <td>2017-01-04 08:34:45</td>\n",
       "      <td>416</td>\n",
       "      <td>May St &amp; Taylor St</td>\n",
       "      <td>Wood St &amp; Taylor St</td>\n",
       "      <td>Subscriber</td>\n",
       "      <td>Male</td>\n",
       "      <td>1981.0</td>\n",
       "    </tr>\n",
       "    <tr>\n",
       "      <th>3</th>\n",
       "      <td>304487</td>\n",
       "      <td>2017-03-06 13:49:38</td>\n",
       "      <td>2017-03-06 13:55:28</td>\n",
       "      <td>350</td>\n",
       "      <td>Christiana Ave &amp; Lawrence Ave</td>\n",
       "      <td>St. Louis Ave &amp; Balmoral Ave</td>\n",
       "      <td>Subscriber</td>\n",
       "      <td>Male</td>\n",
       "      <td>1986.0</td>\n",
       "    </tr>\n",
       "    <tr>\n",
       "      <th>4</th>\n",
       "      <td>45207</td>\n",
       "      <td>2017-01-17 14:53:07</td>\n",
       "      <td>2017-01-17 15:02:01</td>\n",
       "      <td>534</td>\n",
       "      <td>Clark St &amp; Randolph St</td>\n",
       "      <td>Desplaines St &amp; Jackson Blvd</td>\n",
       "      <td>Subscriber</td>\n",
       "      <td>Male</td>\n",
       "      <td>1975.0</td>\n",
       "    </tr>\n",
       "    <tr>\n",
       "      <th>...</th>\n",
       "      <td>...</td>\n",
       "      <td>...</td>\n",
       "      <td>...</td>\n",
       "      <td>...</td>\n",
       "      <td>...</td>\n",
       "      <td>...</td>\n",
       "      <td>...</td>\n",
       "      <td>...</td>\n",
       "      <td>...</td>\n",
       "    </tr>\n",
       "    <tr>\n",
       "      <th>299995</th>\n",
       "      <td>64825</td>\n",
       "      <td>2017-01-21 13:18:00</td>\n",
       "      <td>2017-01-21 13:27:50</td>\n",
       "      <td>590</td>\n",
       "      <td>Orleans St &amp; Elm St (*)</td>\n",
       "      <td>Sheffield Ave &amp; Webster Ave</td>\n",
       "      <td>Subscriber</td>\n",
       "      <td>Male</td>\n",
       "      <td>1965.0</td>\n",
       "    </tr>\n",
       "    <tr>\n",
       "      <th>299996</th>\n",
       "      <td>695993</td>\n",
       "      <td>2017-04-28 19:32:19</td>\n",
       "      <td>2017-04-28 19:51:18</td>\n",
       "      <td>1139</td>\n",
       "      <td>Ashland Ave &amp; Blackhawk St</td>\n",
       "      <td>Clark St &amp; Elm St</td>\n",
       "      <td>Customer</td>\n",
       "      <td>NaN</td>\n",
       "      <td>NaN</td>\n",
       "    </tr>\n",
       "    <tr>\n",
       "      <th>299997</th>\n",
       "      <td>159685</td>\n",
       "      <td>2017-02-12 09:59:01</td>\n",
       "      <td>2017-02-12 10:21:49</td>\n",
       "      <td>1368</td>\n",
       "      <td>Ravenswood Ave &amp; Lawrence Ave</td>\n",
       "      <td>Stockton Dr &amp; Wrightwood Ave</td>\n",
       "      <td>Subscriber</td>\n",
       "      <td>Female</td>\n",
       "      <td>1988.0</td>\n",
       "    </tr>\n",
       "    <tr>\n",
       "      <th>299998</th>\n",
       "      <td>564681</td>\n",
       "      <td>2017-04-16 17:07:15</td>\n",
       "      <td>2017-04-16 17:19:00</td>\n",
       "      <td>705</td>\n",
       "      <td>Sheffield Ave &amp; Willow St</td>\n",
       "      <td>Clark St &amp; Chicago Ave</td>\n",
       "      <td>Customer</td>\n",
       "      <td>NaN</td>\n",
       "      <td>NaN</td>\n",
       "    </tr>\n",
       "    <tr>\n",
       "      <th>299999</th>\n",
       "      <td>1021247</td>\n",
       "      <td>2017-05-30 12:38:28</td>\n",
       "      <td>2017-05-30 12:55:36</td>\n",
       "      <td>1028</td>\n",
       "      <td>Wacker Dr &amp; Washington St</td>\n",
       "      <td>Damen Ave &amp; Division St</td>\n",
       "      <td>Subscriber</td>\n",
       "      <td>Male</td>\n",
       "      <td>1984.0</td>\n",
       "    </tr>\n",
       "  </tbody>\n",
       "</table>\n",
       "<p>300000 rows × 9 columns</p>\n",
       "</div>"
      ],
      "text/plain": [
       "        Unnamed: 0           Start Time             End Time  Trip Duration  \\\n",
       "0          1423854  2017-06-23 15:09:32  2017-06-23 15:14:53            321   \n",
       "1           955915  2017-05-25 18:19:03  2017-05-25 18:45:53           1610   \n",
       "2             9031  2017-01-04 08:27:49  2017-01-04 08:34:45            416   \n",
       "3           304487  2017-03-06 13:49:38  2017-03-06 13:55:28            350   \n",
       "4            45207  2017-01-17 14:53:07  2017-01-17 15:02:01            534   \n",
       "...            ...                  ...                  ...            ...   \n",
       "299995       64825  2017-01-21 13:18:00  2017-01-21 13:27:50            590   \n",
       "299996      695993  2017-04-28 19:32:19  2017-04-28 19:51:18           1139   \n",
       "299997      159685  2017-02-12 09:59:01  2017-02-12 10:21:49           1368   \n",
       "299998      564681  2017-04-16 17:07:15  2017-04-16 17:19:00            705   \n",
       "299999     1021247  2017-05-30 12:38:28  2017-05-30 12:55:36           1028   \n",
       "\n",
       "                        Start Station                   End Station  \\\n",
       "0                Wood St & Hubbard St       Damen Ave & Chicago Ave   \n",
       "1                 Theater on the Lake  Sheffield Ave & Waveland Ave   \n",
       "2                  May St & Taylor St           Wood St & Taylor St   \n",
       "3       Christiana Ave & Lawrence Ave  St. Louis Ave & Balmoral Ave   \n",
       "4              Clark St & Randolph St  Desplaines St & Jackson Blvd   \n",
       "...                               ...                           ...   \n",
       "299995        Orleans St & Elm St (*)   Sheffield Ave & Webster Ave   \n",
       "299996     Ashland Ave & Blackhawk St             Clark St & Elm St   \n",
       "299997  Ravenswood Ave & Lawrence Ave  Stockton Dr & Wrightwood Ave   \n",
       "299998      Sheffield Ave & Willow St        Clark St & Chicago Ave   \n",
       "299999      Wacker Dr & Washington St       Damen Ave & Division St   \n",
       "\n",
       "         User Type  Gender  Birth Year  \n",
       "0       Subscriber    Male      1992.0  \n",
       "1       Subscriber  Female      1992.0  \n",
       "2       Subscriber    Male      1981.0  \n",
       "3       Subscriber    Male      1986.0  \n",
       "4       Subscriber    Male      1975.0  \n",
       "...            ...     ...         ...  \n",
       "299995  Subscriber    Male      1965.0  \n",
       "299996    Customer     NaN         NaN  \n",
       "299997  Subscriber  Female      1988.0  \n",
       "299998    Customer     NaN         NaN  \n",
       "299999  Subscriber    Male      1984.0  \n",
       "\n",
       "[300000 rows x 9 columns]"
      ]
     },
     "execution_count": 6,
     "metadata": {},
     "output_type": "execute_result"
    }
   ],
   "source": [
    "chicago"
   ]
  },
  {
   "cell_type": "code",
   "execution_count": 7,
   "id": "fec598f3",
   "metadata": {},
   "outputs": [
    {
     "data": {
      "text/html": [
       "<div>\n",
       "<style scoped>\n",
       "    .dataframe tbody tr th:only-of-type {\n",
       "        vertical-align: middle;\n",
       "    }\n",
       "\n",
       "    .dataframe tbody tr th {\n",
       "        vertical-align: top;\n",
       "    }\n",
       "\n",
       "    .dataframe thead th {\n",
       "        text-align: right;\n",
       "    }\n",
       "</style>\n",
       "<table border=\"1\" class=\"dataframe\">\n",
       "  <thead>\n",
       "    <tr style=\"text-align: right;\">\n",
       "      <th></th>\n",
       "      <th>Unnamed: 0</th>\n",
       "      <th>Start Time</th>\n",
       "      <th>End Time</th>\n",
       "      <th>Trip Duration</th>\n",
       "      <th>Start Station</th>\n",
       "      <th>End Station</th>\n",
       "      <th>User Type</th>\n",
       "      <th>Gender</th>\n",
       "      <th>Birth Year</th>\n",
       "    </tr>\n",
       "  </thead>\n",
       "  <tbody>\n",
       "    <tr>\n",
       "      <th>0</th>\n",
       "      <td>1423854</td>\n",
       "      <td>2017-06-23 15:09:32</td>\n",
       "      <td>2017-06-23 15:14:53</td>\n",
       "      <td>321</td>\n",
       "      <td>Wood St &amp; Hubbard St</td>\n",
       "      <td>Damen Ave &amp; Chicago Ave</td>\n",
       "      <td>Subscriber</td>\n",
       "      <td>Male</td>\n",
       "      <td>1992.0</td>\n",
       "    </tr>\n",
       "    <tr>\n",
       "      <th>1</th>\n",
       "      <td>955915</td>\n",
       "      <td>2017-05-25 18:19:03</td>\n",
       "      <td>2017-05-25 18:45:53</td>\n",
       "      <td>1610</td>\n",
       "      <td>Theater on the Lake</td>\n",
       "      <td>Sheffield Ave &amp; Waveland Ave</td>\n",
       "      <td>Subscriber</td>\n",
       "      <td>Female</td>\n",
       "      <td>1992.0</td>\n",
       "    </tr>\n",
       "    <tr>\n",
       "      <th>2</th>\n",
       "      <td>9031</td>\n",
       "      <td>2017-01-04 08:27:49</td>\n",
       "      <td>2017-01-04 08:34:45</td>\n",
       "      <td>416</td>\n",
       "      <td>May St &amp; Taylor St</td>\n",
       "      <td>Wood St &amp; Taylor St</td>\n",
       "      <td>Subscriber</td>\n",
       "      <td>Male</td>\n",
       "      <td>1981.0</td>\n",
       "    </tr>\n",
       "    <tr>\n",
       "      <th>3</th>\n",
       "      <td>304487</td>\n",
       "      <td>2017-03-06 13:49:38</td>\n",
       "      <td>2017-03-06 13:55:28</td>\n",
       "      <td>350</td>\n",
       "      <td>Christiana Ave &amp; Lawrence Ave</td>\n",
       "      <td>St. Louis Ave &amp; Balmoral Ave</td>\n",
       "      <td>Subscriber</td>\n",
       "      <td>Male</td>\n",
       "      <td>1986.0</td>\n",
       "    </tr>\n",
       "    <tr>\n",
       "      <th>4</th>\n",
       "      <td>45207</td>\n",
       "      <td>2017-01-17 14:53:07</td>\n",
       "      <td>2017-01-17 15:02:01</td>\n",
       "      <td>534</td>\n",
       "      <td>Clark St &amp; Randolph St</td>\n",
       "      <td>Desplaines St &amp; Jackson Blvd</td>\n",
       "      <td>Subscriber</td>\n",
       "      <td>Male</td>\n",
       "      <td>1975.0</td>\n",
       "    </tr>\n",
       "  </tbody>\n",
       "</table>\n",
       "</div>"
      ],
      "text/plain": [
       "   Unnamed: 0           Start Time             End Time  Trip Duration  \\\n",
       "0     1423854  2017-06-23 15:09:32  2017-06-23 15:14:53            321   \n",
       "1      955915  2017-05-25 18:19:03  2017-05-25 18:45:53           1610   \n",
       "2        9031  2017-01-04 08:27:49  2017-01-04 08:34:45            416   \n",
       "3      304487  2017-03-06 13:49:38  2017-03-06 13:55:28            350   \n",
       "4       45207  2017-01-17 14:53:07  2017-01-17 15:02:01            534   \n",
       "\n",
       "                   Start Station                   End Station   User Type  \\\n",
       "0           Wood St & Hubbard St       Damen Ave & Chicago Ave  Subscriber   \n",
       "1            Theater on the Lake  Sheffield Ave & Waveland Ave  Subscriber   \n",
       "2             May St & Taylor St           Wood St & Taylor St  Subscriber   \n",
       "3  Christiana Ave & Lawrence Ave  St. Louis Ave & Balmoral Ave  Subscriber   \n",
       "4         Clark St & Randolph St  Desplaines St & Jackson Blvd  Subscriber   \n",
       "\n",
       "   Gender  Birth Year  \n",
       "0    Male      1992.0  \n",
       "1  Female      1992.0  \n",
       "2    Male      1981.0  \n",
       "3    Male      1986.0  \n",
       "4    Male      1975.0  "
      ]
     },
     "execution_count": 7,
     "metadata": {},
     "output_type": "execute_result"
    }
   ],
   "source": [
    "chicago.head()"
   ]
  },
  {
   "cell_type": "code",
   "execution_count": 9,
   "id": "6e93422b",
   "metadata": {},
   "outputs": [
    {
     "data": {
      "text/plain": [
       "Index(['Unnamed: 0', 'Start Time', 'End Time', 'Trip Duration',\n",
       "       'Start Station', 'End Station', 'User Type', 'Gender', 'Birth Year'],\n",
       "      dtype='object')"
      ]
     },
     "execution_count": 9,
     "metadata": {},
     "output_type": "execute_result"
    }
   ],
   "source": [
    "chicago.columns"
   ]
  },
  {
   "cell_type": "code",
   "execution_count": 10,
   "id": "4ca7e89b",
   "metadata": {},
   "outputs": [
    {
     "data": {
      "text/html": [
       "<div>\n",
       "<style scoped>\n",
       "    .dataframe tbody tr th:only-of-type {\n",
       "        vertical-align: middle;\n",
       "    }\n",
       "\n",
       "    .dataframe tbody tr th {\n",
       "        vertical-align: top;\n",
       "    }\n",
       "\n",
       "    .dataframe thead th {\n",
       "        text-align: right;\n",
       "    }\n",
       "</style>\n",
       "<table border=\"1\" class=\"dataframe\">\n",
       "  <thead>\n",
       "    <tr style=\"text-align: right;\">\n",
       "      <th></th>\n",
       "      <th>Unnamed: 0</th>\n",
       "      <th>Trip Duration</th>\n",
       "      <th>Birth Year</th>\n",
       "    </tr>\n",
       "  </thead>\n",
       "  <tbody>\n",
       "    <tr>\n",
       "      <th>count</th>\n",
       "      <td>3.000000e+05</td>\n",
       "      <td>300000.000000</td>\n",
       "      <td>238981.000000</td>\n",
       "    </tr>\n",
       "    <tr>\n",
       "      <th>mean</th>\n",
       "      <td>7.763458e+05</td>\n",
       "      <td>936.239290</td>\n",
       "      <td>1980.858223</td>\n",
       "    </tr>\n",
       "    <tr>\n",
       "      <th>std</th>\n",
       "      <td>4.481464e+05</td>\n",
       "      <td>1548.792767</td>\n",
       "      <td>11.003329</td>\n",
       "    </tr>\n",
       "    <tr>\n",
       "      <th>min</th>\n",
       "      <td>4.000000e+00</td>\n",
       "      <td>60.000000</td>\n",
       "      <td>1899.000000</td>\n",
       "    </tr>\n",
       "    <tr>\n",
       "      <th>25%</th>\n",
       "      <td>3.871368e+05</td>\n",
       "      <td>393.000000</td>\n",
       "      <td>1975.000000</td>\n",
       "    </tr>\n",
       "    <tr>\n",
       "      <th>50%</th>\n",
       "      <td>7.771035e+05</td>\n",
       "      <td>670.000000</td>\n",
       "      <td>1984.000000</td>\n",
       "    </tr>\n",
       "    <tr>\n",
       "      <th>75%</th>\n",
       "      <td>1.164065e+06</td>\n",
       "      <td>1125.000000</td>\n",
       "      <td>1989.000000</td>\n",
       "    </tr>\n",
       "    <tr>\n",
       "      <th>max</th>\n",
       "      <td>1.551500e+06</td>\n",
       "      <td>86224.000000</td>\n",
       "      <td>2016.000000</td>\n",
       "    </tr>\n",
       "  </tbody>\n",
       "</table>\n",
       "</div>"
      ],
      "text/plain": [
       "         Unnamed: 0  Trip Duration     Birth Year\n",
       "count  3.000000e+05  300000.000000  238981.000000\n",
       "mean   7.763458e+05     936.239290    1980.858223\n",
       "std    4.481464e+05    1548.792767      11.003329\n",
       "min    4.000000e+00      60.000000    1899.000000\n",
       "25%    3.871368e+05     393.000000    1975.000000\n",
       "50%    7.771035e+05     670.000000    1984.000000\n",
       "75%    1.164065e+06    1125.000000    1989.000000\n",
       "max    1.551500e+06   86224.000000    2016.000000"
      ]
     },
     "execution_count": 10,
     "metadata": {},
     "output_type": "execute_result"
    }
   ],
   "source": [
    "chicago.describe()"
   ]
  },
  {
   "cell_type": "code",
   "execution_count": 12,
   "id": "a31b31ec",
   "metadata": {},
   "outputs": [
    {
     "data": {
      "text/plain": [
       "1989.0    14666\n",
       "1988.0    12490\n",
       "1991.0    12397\n",
       "1990.0    12378\n",
       "1987.0    11939\n",
       "          ...  \n",
       "2003.0        2\n",
       "1938.0        2\n",
       "1909.0        2\n",
       "2004.0        1\n",
       "1931.0        1\n",
       "Name: Birth Year, Length: 79, dtype: int64"
      ]
     },
     "execution_count": 12,
     "metadata": {},
     "output_type": "execute_result"
    }
   ],
   "source": [
    "chicago['Birth Year'].value_counts()"
   ]
  },
  {
   "cell_type": "code",
   "execution_count": 15,
   "id": "0059acc6",
   "metadata": {},
   "outputs": [
    {
     "data": {
      "text/plain": [
       "array([1992., 1981., 1986., 1975., 1990., 1983.,   nan, 1984., 1979.,\n",
       "       1993., 1964., 1961., 1985., 1967., 1987., 1980., 1989., 1968.,\n",
       "       1974., 1970., 1965., 1977., 1972., 1988., 1966., 1991., 1969.,\n",
       "       1978., 1960., 1963., 1955., 1998., 1994., 1959., 1982., 1971.,\n",
       "       1954., 1957., 1973., 1976., 1956., 1962., 1952., 1997., 1946.,\n",
       "       1953., 1949., 1996., 1995., 1951., 1950., 1944., 1999., 1958.,\n",
       "       1901., 1942., 1948., 1939., 2000., 1945., 1899., 1947., 1900.,\n",
       "       2002., 1940., 1918., 1930., 1916., 1941., 2016., 1934., 2001.,\n",
       "       2003., 1938., 1921., 1943., 1906., 1909., 2004., 1931.])"
      ]
     },
     "execution_count": 15,
     "metadata": {},
     "output_type": "execute_result"
    }
   ],
   "source": [
    "chicago['Birth Year'].unique()"
   ]
  },
  {
   "cell_type": "code",
   "execution_count": 17,
   "id": "8e1c5a7e",
   "metadata": {},
   "outputs": [
    {
     "name": "stdout",
     "output_type": "stream",
     "text": [
      "<class 'pandas.core.frame.DataFrame'>\n",
      "RangeIndex: 300000 entries, 0 to 299999\n",
      "Data columns (total 9 columns):\n",
      " #   Column         Non-Null Count   Dtype  \n",
      "---  ------         --------------   -----  \n",
      " 0   Unnamed: 0     300000 non-null  int64  \n",
      " 1   Start Time     300000 non-null  object \n",
      " 2   End Time       300000 non-null  object \n",
      " 3   Trip Duration  300000 non-null  int64  \n",
      " 4   Start Station  300000 non-null  object \n",
      " 5   End Station    300000 non-null  object \n",
      " 6   User Type      300000 non-null  object \n",
      " 7   Gender         238948 non-null  object \n",
      " 8   Birth Year     238981 non-null  float64\n",
      "dtypes: float64(1), int64(2), object(6)\n",
      "memory usage: 20.6+ MB\n"
     ]
    }
   ],
   "source": [
    "chicago.info()"
   ]
  },
  {
   "cell_type": "code",
   "execution_count": 18,
   "id": "a3647000",
   "metadata": {},
   "outputs": [
    {
     "name": "stdout",
     "output_type": "stream",
     "text": [
      "Most Popular Start Hour: 17\n"
     ]
    }
   ],
   "source": [
    "import pandas as pd\n",
    "\n",
    "filename = 'chicago.csv'\n",
    "\n",
    "# load data file into a dataframe\n",
    "df = pd.read_csv(filename)\n",
    "\n",
    "# convert the Start Time column to datetime\n",
    "df['Start Time'] = pd.to_datetime(df['Start Time'])\n",
    "\n",
    "# extract hour from the Start Time column to create an hour column\n",
    "df['hour'] = df['Start Time'].dt.hour\n",
    "\n",
    "# find the most popular hour\n",
    "popular_hour = df['hour'].mode()[0]\n",
    "    \n",
    "print('Most Popular Start Hour:', popular_hour)"
   ]
  },
  {
   "cell_type": "code",
   "execution_count": 19,
   "id": "3b3391a5",
   "metadata": {},
   "outputs": [
    {
     "name": "stdout",
     "output_type": "stream",
     "text": [
      "Most Frequent Start Hour: 17\n"
     ]
    }
   ],
   "source": [
    "import pandas as pd\n",
    "\n",
    "filename = 'chicago.csv'\n",
    "\n",
    "# load data file into a dataframe\n",
    "df = pd.read_csv(filename)\n",
    "\n",
    "# convert the Start Time column to datetime\n",
    "df['Start Time'] = pd.to_datetime(df['Start Time'])\n",
    "\n",
    "# extract hour from the Start Time column to create an hour column\n",
    "df['hour'] = df['Start Time'].dt.hour\n",
    "\n",
    "# find the most common hour (from 0 to 23)\n",
    "popular_hour = df['hour'].mode()[0]\n",
    "    \n",
    "print('Most Frequent Start Hour:', popular_hour)"
   ]
  },
  {
   "cell_type": "code",
   "execution_count": 22,
   "id": "c80ed1d1",
   "metadata": {},
   "outputs": [],
   "source": [
    "months = ['january', 'february', 'march', 'april', 'may', 'june']\n",
    "month = months.index('january')+1\n"
   ]
  },
  {
   "cell_type": "code",
   "execution_count": 23,
   "id": "e02d4235",
   "metadata": {},
   "outputs": [
    {
     "data": {
      "text/plain": [
       "1"
      ]
     },
     "execution_count": 23,
     "metadata": {},
     "output_type": "execute_result"
    }
   ],
   "source": [
    "month"
   ]
  },
  {
   "cell_type": "code",
   "execution_count": 25,
   "id": "fded76e7",
   "metadata": {},
   "outputs": [
    {
     "ename": "KeyError",
     "evalue": "False",
     "output_type": "error",
     "traceback": [
      "\u001b[1;31m---------------------------------------------------------------------------\u001b[0m",
      "\u001b[1;31mKeyError\u001b[0m                                  Traceback (most recent call last)",
      "\u001b[1;32m~\\anaconda3\\lib\\site-packages\\pandas\\core\\indexes\\base.py\u001b[0m in \u001b[0;36mget_loc\u001b[1;34m(self, key, method, tolerance)\u001b[0m\n\u001b[0;32m   3628\u001b[0m             \u001b[1;32mtry\u001b[0m\u001b[1;33m:\u001b[0m\u001b[1;33m\u001b[0m\u001b[1;33m\u001b[0m\u001b[0m\n\u001b[1;32m-> 3629\u001b[1;33m                 \u001b[1;32mreturn\u001b[0m \u001b[0mself\u001b[0m\u001b[1;33m.\u001b[0m\u001b[0m_engine\u001b[0m\u001b[1;33m.\u001b[0m\u001b[0mget_loc\u001b[0m\u001b[1;33m(\u001b[0m\u001b[0mcasted_key\u001b[0m\u001b[1;33m)\u001b[0m\u001b[1;33m\u001b[0m\u001b[1;33m\u001b[0m\u001b[0m\n\u001b[0m\u001b[0;32m   3630\u001b[0m             \u001b[1;32mexcept\u001b[0m \u001b[0mKeyError\u001b[0m \u001b[1;32mas\u001b[0m \u001b[0merr\u001b[0m\u001b[1;33m:\u001b[0m\u001b[1;33m\u001b[0m\u001b[1;33m\u001b[0m\u001b[0m\n",
      "\u001b[1;32m~\\anaconda3\\lib\\site-packages\\pandas\\_libs\\index.pyx\u001b[0m in \u001b[0;36mpandas._libs.index.IndexEngine.get_loc\u001b[1;34m()\u001b[0m\n",
      "\u001b[1;32m~\\anaconda3\\lib\\site-packages\\pandas\\_libs\\index.pyx\u001b[0m in \u001b[0;36mpandas._libs.index.IndexEngine.get_loc\u001b[1;34m()\u001b[0m\n",
      "\u001b[1;32mpandas\\_libs\\hashtable_class_helper.pxi\u001b[0m in \u001b[0;36mpandas._libs.hashtable.PyObjectHashTable.get_item\u001b[1;34m()\u001b[0m\n",
      "\u001b[1;32mpandas\\_libs\\hashtable_class_helper.pxi\u001b[0m in \u001b[0;36mpandas._libs.hashtable.PyObjectHashTable.get_item\u001b[1;34m()\u001b[0m\n",
      "\u001b[1;31mKeyError\u001b[0m: False",
      "\nThe above exception was the direct cause of the following exception:\n",
      "\u001b[1;31mKeyError\u001b[0m                                  Traceback (most recent call last)",
      "\u001b[1;32m~\\AppData\\Local\\Temp\\ipykernel_10552\\62934996.py\u001b[0m in \u001b[0;36m<module>\u001b[1;34m\u001b[0m\n\u001b[1;32m----> 1\u001b[1;33m \u001b[0mc\u001b[0m \u001b[1;33m=\u001b[0m \u001b[0mchicago\u001b[0m\u001b[1;33m[\u001b[0m\u001b[1;34m'Trip Duration'\u001b[0m \u001b[1;33m==\u001b[0m \u001b[1;36m321\u001b[0m\u001b[1;33m]\u001b[0m\u001b[1;33m\u001b[0m\u001b[1;33m\u001b[0m\u001b[0m\n\u001b[0m\u001b[0;32m      2\u001b[0m \u001b[0mc\u001b[0m\u001b[1;33m\u001b[0m\u001b[1;33m\u001b[0m\u001b[0m\n",
      "\u001b[1;32m~\\anaconda3\\lib\\site-packages\\pandas\\core\\frame.py\u001b[0m in \u001b[0;36m__getitem__\u001b[1;34m(self, key)\u001b[0m\n\u001b[0;32m   3503\u001b[0m             \u001b[1;32mif\u001b[0m \u001b[0mself\u001b[0m\u001b[1;33m.\u001b[0m\u001b[0mcolumns\u001b[0m\u001b[1;33m.\u001b[0m\u001b[0mnlevels\u001b[0m \u001b[1;33m>\u001b[0m \u001b[1;36m1\u001b[0m\u001b[1;33m:\u001b[0m\u001b[1;33m\u001b[0m\u001b[1;33m\u001b[0m\u001b[0m\n\u001b[0;32m   3504\u001b[0m                 \u001b[1;32mreturn\u001b[0m \u001b[0mself\u001b[0m\u001b[1;33m.\u001b[0m\u001b[0m_getitem_multilevel\u001b[0m\u001b[1;33m(\u001b[0m\u001b[0mkey\u001b[0m\u001b[1;33m)\u001b[0m\u001b[1;33m\u001b[0m\u001b[1;33m\u001b[0m\u001b[0m\n\u001b[1;32m-> 3505\u001b[1;33m             \u001b[0mindexer\u001b[0m \u001b[1;33m=\u001b[0m \u001b[0mself\u001b[0m\u001b[1;33m.\u001b[0m\u001b[0mcolumns\u001b[0m\u001b[1;33m.\u001b[0m\u001b[0mget_loc\u001b[0m\u001b[1;33m(\u001b[0m\u001b[0mkey\u001b[0m\u001b[1;33m)\u001b[0m\u001b[1;33m\u001b[0m\u001b[1;33m\u001b[0m\u001b[0m\n\u001b[0m\u001b[0;32m   3506\u001b[0m             \u001b[1;32mif\u001b[0m \u001b[0mis_integer\u001b[0m\u001b[1;33m(\u001b[0m\u001b[0mindexer\u001b[0m\u001b[1;33m)\u001b[0m\u001b[1;33m:\u001b[0m\u001b[1;33m\u001b[0m\u001b[1;33m\u001b[0m\u001b[0m\n\u001b[0;32m   3507\u001b[0m                 \u001b[0mindexer\u001b[0m \u001b[1;33m=\u001b[0m \u001b[1;33m[\u001b[0m\u001b[0mindexer\u001b[0m\u001b[1;33m]\u001b[0m\u001b[1;33m\u001b[0m\u001b[1;33m\u001b[0m\u001b[0m\n",
      "\u001b[1;32m~\\anaconda3\\lib\\site-packages\\pandas\\core\\indexes\\base.py\u001b[0m in \u001b[0;36mget_loc\u001b[1;34m(self, key, method, tolerance)\u001b[0m\n\u001b[0;32m   3629\u001b[0m                 \u001b[1;32mreturn\u001b[0m \u001b[0mself\u001b[0m\u001b[1;33m.\u001b[0m\u001b[0m_engine\u001b[0m\u001b[1;33m.\u001b[0m\u001b[0mget_loc\u001b[0m\u001b[1;33m(\u001b[0m\u001b[0mcasted_key\u001b[0m\u001b[1;33m)\u001b[0m\u001b[1;33m\u001b[0m\u001b[1;33m\u001b[0m\u001b[0m\n\u001b[0;32m   3630\u001b[0m             \u001b[1;32mexcept\u001b[0m \u001b[0mKeyError\u001b[0m \u001b[1;32mas\u001b[0m \u001b[0merr\u001b[0m\u001b[1;33m:\u001b[0m\u001b[1;33m\u001b[0m\u001b[1;33m\u001b[0m\u001b[0m\n\u001b[1;32m-> 3631\u001b[1;33m                 \u001b[1;32mraise\u001b[0m \u001b[0mKeyError\u001b[0m\u001b[1;33m(\u001b[0m\u001b[0mkey\u001b[0m\u001b[1;33m)\u001b[0m \u001b[1;32mfrom\u001b[0m \u001b[0merr\u001b[0m\u001b[1;33m\u001b[0m\u001b[1;33m\u001b[0m\u001b[0m\n\u001b[0m\u001b[0;32m   3632\u001b[0m             \u001b[1;32mexcept\u001b[0m \u001b[0mTypeError\u001b[0m\u001b[1;33m:\u001b[0m\u001b[1;33m\u001b[0m\u001b[1;33m\u001b[0m\u001b[0m\n\u001b[0;32m   3633\u001b[0m                 \u001b[1;31m# If we have a listlike key, _check_indexing_error will raise\u001b[0m\u001b[1;33m\u001b[0m\u001b[1;33m\u001b[0m\u001b[0m\n",
      "\u001b[1;31mKeyError\u001b[0m: False"
     ]
    }
   ],
   "source": [
    "c = chicago['Trip Duration' == 321]\n",
    "c"
   ]
  },
  {
   "cell_type": "code",
   "execution_count": 26,
   "id": "e8a5a556",
   "metadata": {},
   "outputs": [],
   "source": [
    "df = chicago[chicago['Trip Duration'] == 321] "
   ]
  },
  {
   "cell_type": "code",
   "execution_count": 27,
   "id": "a6ca7602",
   "metadata": {},
   "outputs": [
    {
     "data": {
      "text/html": [
       "<div>\n",
       "<style scoped>\n",
       "    .dataframe tbody tr th:only-of-type {\n",
       "        vertical-align: middle;\n",
       "    }\n",
       "\n",
       "    .dataframe tbody tr th {\n",
       "        vertical-align: top;\n",
       "    }\n",
       "\n",
       "    .dataframe thead th {\n",
       "        text-align: right;\n",
       "    }\n",
       "</style>\n",
       "<table border=\"1\" class=\"dataframe\">\n",
       "  <thead>\n",
       "    <tr style=\"text-align: right;\">\n",
       "      <th></th>\n",
       "      <th>Unnamed: 0</th>\n",
       "      <th>Start Time</th>\n",
       "      <th>End Time</th>\n",
       "      <th>Trip Duration</th>\n",
       "      <th>Start Station</th>\n",
       "      <th>End Station</th>\n",
       "      <th>User Type</th>\n",
       "      <th>Gender</th>\n",
       "      <th>Birth Year</th>\n",
       "    </tr>\n",
       "  </thead>\n",
       "  <tbody>\n",
       "    <tr>\n",
       "      <th>0</th>\n",
       "      <td>1423854</td>\n",
       "      <td>2017-06-23 15:09:32</td>\n",
       "      <td>2017-06-23 15:14:53</td>\n",
       "      <td>321</td>\n",
       "      <td>Wood St &amp; Hubbard St</td>\n",
       "      <td>Damen Ave &amp; Chicago Ave</td>\n",
       "      <td>Subscriber</td>\n",
       "      <td>Male</td>\n",
       "      <td>1992.0</td>\n",
       "    </tr>\n",
       "    <tr>\n",
       "      <th>1262</th>\n",
       "      <td>1143748</td>\n",
       "      <td>2017-06-06 17:17:55</td>\n",
       "      <td>2017-06-06 17:23:16</td>\n",
       "      <td>321</td>\n",
       "      <td>Rush St &amp; Superior St</td>\n",
       "      <td>Clark St &amp; Elm St</td>\n",
       "      <td>Subscriber</td>\n",
       "      <td>Male</td>\n",
       "      <td>1989.0</td>\n",
       "    </tr>\n",
       "    <tr>\n",
       "      <th>1360</th>\n",
       "      <td>1537324</td>\n",
       "      <td>2017-06-30 08:27:06</td>\n",
       "      <td>2017-06-30 08:32:27</td>\n",
       "      <td>321</td>\n",
       "      <td>Wabash Ave &amp; 8th St</td>\n",
       "      <td>State St &amp; Van Buren St</td>\n",
       "      <td>Subscriber</td>\n",
       "      <td>Male</td>\n",
       "      <td>1981.0</td>\n",
       "    </tr>\n",
       "    <tr>\n",
       "      <th>3017</th>\n",
       "      <td>1114884</td>\n",
       "      <td>2017-06-04 19:47:16</td>\n",
       "      <td>2017-06-04 19:52:37</td>\n",
       "      <td>321</td>\n",
       "      <td>University Ave &amp; 57th St</td>\n",
       "      <td>Lake Park Ave &amp; 56th St</td>\n",
       "      <td>Subscriber</td>\n",
       "      <td>Female</td>\n",
       "      <td>1990.0</td>\n",
       "    </tr>\n",
       "    <tr>\n",
       "      <th>3984</th>\n",
       "      <td>1388583</td>\n",
       "      <td>2017-06-21 14:05:44</td>\n",
       "      <td>2017-06-21 14:11:05</td>\n",
       "      <td>321</td>\n",
       "      <td>Kingsbury St &amp; Erie St</td>\n",
       "      <td>Clinton St &amp; Washington Blvd</td>\n",
       "      <td>Subscriber</td>\n",
       "      <td>Male</td>\n",
       "      <td>1986.0</td>\n",
       "    </tr>\n",
       "    <tr>\n",
       "      <th>...</th>\n",
       "      <td>...</td>\n",
       "      <td>...</td>\n",
       "      <td>...</td>\n",
       "      <td>...</td>\n",
       "      <td>...</td>\n",
       "      <td>...</td>\n",
       "      <td>...</td>\n",
       "      <td>...</td>\n",
       "      <td>...</td>\n",
       "    </tr>\n",
       "    <tr>\n",
       "      <th>293789</th>\n",
       "      <td>1120362</td>\n",
       "      <td>2017-06-05 08:45:26</td>\n",
       "      <td>2017-06-05 08:50:47</td>\n",
       "      <td>321</td>\n",
       "      <td>Columbus Dr &amp; Randolph St</td>\n",
       "      <td>Clark St &amp; Randolph St</td>\n",
       "      <td>Subscriber</td>\n",
       "      <td>Female</td>\n",
       "      <td>1987.0</td>\n",
       "    </tr>\n",
       "    <tr>\n",
       "      <th>293805</th>\n",
       "      <td>804920</td>\n",
       "      <td>2017-05-12 17:53:29</td>\n",
       "      <td>2017-05-12 17:58:50</td>\n",
       "      <td>321</td>\n",
       "      <td>Wilton Ave &amp; Diversey Pkwy</td>\n",
       "      <td>Hampden Ct &amp; Diversey Pkwy</td>\n",
       "      <td>Subscriber</td>\n",
       "      <td>Male</td>\n",
       "      <td>1977.0</td>\n",
       "    </tr>\n",
       "    <tr>\n",
       "      <th>294009</th>\n",
       "      <td>1175824</td>\n",
       "      <td>2017-06-08 16:12:32</td>\n",
       "      <td>2017-06-08 16:17:53</td>\n",
       "      <td>321</td>\n",
       "      <td>Halsted St &amp; Polk St</td>\n",
       "      <td>Racine Ave &amp; Congress Pkwy</td>\n",
       "      <td>Subscriber</td>\n",
       "      <td>Male</td>\n",
       "      <td>1991.0</td>\n",
       "    </tr>\n",
       "    <tr>\n",
       "      <th>294842</th>\n",
       "      <td>1333469</td>\n",
       "      <td>2017-06-18 10:32:12</td>\n",
       "      <td>2017-06-18 10:37:33</td>\n",
       "      <td>321</td>\n",
       "      <td>Wabash Ave &amp; 16th St</td>\n",
       "      <td>Wabash Ave &amp; Roosevelt Rd</td>\n",
       "      <td>Subscriber</td>\n",
       "      <td>Female</td>\n",
       "      <td>1983.0</td>\n",
       "    </tr>\n",
       "    <tr>\n",
       "      <th>298698</th>\n",
       "      <td>743998</td>\n",
       "      <td>2017-05-06 12:20:46</td>\n",
       "      <td>2017-05-06 12:26:07</td>\n",
       "      <td>321</td>\n",
       "      <td>Sheffield Ave &amp; Webster Ave</td>\n",
       "      <td>Sedgwick St &amp; Webster Ave</td>\n",
       "      <td>Subscriber</td>\n",
       "      <td>Male</td>\n",
       "      <td>1972.0</td>\n",
       "    </tr>\n",
       "  </tbody>\n",
       "</table>\n",
       "<p>307 rows × 9 columns</p>\n",
       "</div>"
      ],
      "text/plain": [
       "        Unnamed: 0           Start Time             End Time  Trip Duration  \\\n",
       "0          1423854  2017-06-23 15:09:32  2017-06-23 15:14:53            321   \n",
       "1262       1143748  2017-06-06 17:17:55  2017-06-06 17:23:16            321   \n",
       "1360       1537324  2017-06-30 08:27:06  2017-06-30 08:32:27            321   \n",
       "3017       1114884  2017-06-04 19:47:16  2017-06-04 19:52:37            321   \n",
       "3984       1388583  2017-06-21 14:05:44  2017-06-21 14:11:05            321   \n",
       "...            ...                  ...                  ...            ...   \n",
       "293789     1120362  2017-06-05 08:45:26  2017-06-05 08:50:47            321   \n",
       "293805      804920  2017-05-12 17:53:29  2017-05-12 17:58:50            321   \n",
       "294009     1175824  2017-06-08 16:12:32  2017-06-08 16:17:53            321   \n",
       "294842     1333469  2017-06-18 10:32:12  2017-06-18 10:37:33            321   \n",
       "298698      743998  2017-05-06 12:20:46  2017-05-06 12:26:07            321   \n",
       "\n",
       "                      Start Station                   End Station   User Type  \\\n",
       "0              Wood St & Hubbard St       Damen Ave & Chicago Ave  Subscriber   \n",
       "1262          Rush St & Superior St             Clark St & Elm St  Subscriber   \n",
       "1360            Wabash Ave & 8th St       State St & Van Buren St  Subscriber   \n",
       "3017       University Ave & 57th St       Lake Park Ave & 56th St  Subscriber   \n",
       "3984         Kingsbury St & Erie St  Clinton St & Washington Blvd  Subscriber   \n",
       "...                             ...                           ...         ...   \n",
       "293789    Columbus Dr & Randolph St        Clark St & Randolph St  Subscriber   \n",
       "293805   Wilton Ave & Diversey Pkwy    Hampden Ct & Diversey Pkwy  Subscriber   \n",
       "294009         Halsted St & Polk St    Racine Ave & Congress Pkwy  Subscriber   \n",
       "294842         Wabash Ave & 16th St     Wabash Ave & Roosevelt Rd  Subscriber   \n",
       "298698  Sheffield Ave & Webster Ave     Sedgwick St & Webster Ave  Subscriber   \n",
       "\n",
       "        Gender  Birth Year  \n",
       "0         Male      1992.0  \n",
       "1262      Male      1989.0  \n",
       "1360      Male      1981.0  \n",
       "3017    Female      1990.0  \n",
       "3984      Male      1986.0  \n",
       "...        ...         ...  \n",
       "293789  Female      1987.0  \n",
       "293805    Male      1977.0  \n",
       "294009    Male      1991.0  \n",
       "294842  Female      1983.0  \n",
       "298698    Male      1972.0  \n",
       "\n",
       "[307 rows x 9 columns]"
      ]
     },
     "execution_count": 27,
     "metadata": {},
     "output_type": "execute_result"
    }
   ],
   "source": [
    "df"
   ]
  },
  {
   "cell_type": "code",
   "execution_count": 31,
   "id": "627826fe",
   "metadata": {},
   "outputs": [],
   "source": [
    "import pandas as pd\n",
    "\n",
    "CITY_DATA = { 'chicago': 'chicago.csv',\n",
    "              'new york city': 'new_york_city.csv',\n",
    "              'washington': 'washington.csv' }\n",
    "\n",
    "def load_data(city, month, day):\n",
    "    \"\"\"\n",
    "    Loads data for the specified city and filters by month and day if applicable.\n",
    "\n",
    "    Args:\n",
    "        (str) city - name of the city to analyze\n",
    "        (str) month - name of the month to filter by, or \"all\" to apply no month filter\n",
    "        (str) day - name of the day of week to filter by, or \"all\" to apply no day filter\n",
    "    Returns:\n",
    "        df - Pandas DataFrame containing city data filtered by month and day\n",
    "    \"\"\"\n",
    "    \n",
    "    # load data file into a dataframe\n",
    "    df = pd.read_csv(CITY_DATA[city])\n",
    "\n",
    "    # convert the Start Time column to datetime\n",
    "    df['Start Time'] = pd.to_datetime(df['Start Time'])\n",
    "\n",
    "    # extract month and day of week from Start Time to create new columns\n",
    "    df['month'] = df['Start Time'].dt.month\n",
    "    df['day_of_week'] = df['Start Time'].dt.day_name()\n",
    "\n",
    "    # filter by month if applicable\n",
    "    if month != 'all':\n",
    "        # use the index of the months list to get the corresponding int\n",
    "        months = ['january', 'february', 'march', 'april', 'may', 'june']\n",
    "        month = months.index(month) + 1\n",
    "    \n",
    "        # filter by month to create the new dataframe\n",
    "        df = df[df['month'] == month]\n",
    "\n",
    "    # filter by day of week if applicable\n",
    "    if day != 'all':\n",
    "        # filter by day of week to create the new dataframe\n",
    "        df = df[df['day_of_week'] == day.title()]\n",
    "    \n",
    "    return df\n",
    "\n",
    "    \n",
    "df = load_data('chicago', 'march', 'friday')"
   ]
  },
  {
   "cell_type": "code",
   "execution_count": 32,
   "id": "07a27040",
   "metadata": {},
   "outputs": [
    {
     "data": {
      "text/html": [
       "<div>\n",
       "<style scoped>\n",
       "    .dataframe tbody tr th:only-of-type {\n",
       "        vertical-align: middle;\n",
       "    }\n",
       "\n",
       "    .dataframe tbody tr th {\n",
       "        vertical-align: top;\n",
       "    }\n",
       "\n",
       "    .dataframe thead th {\n",
       "        text-align: right;\n",
       "    }\n",
       "</style>\n",
       "<table border=\"1\" class=\"dataframe\">\n",
       "  <thead>\n",
       "    <tr style=\"text-align: right;\">\n",
       "      <th></th>\n",
       "      <th>Unnamed: 0</th>\n",
       "      <th>Start Time</th>\n",
       "      <th>End Time</th>\n",
       "      <th>Trip Duration</th>\n",
       "      <th>Start Station</th>\n",
       "      <th>End Station</th>\n",
       "      <th>User Type</th>\n",
       "      <th>Gender</th>\n",
       "      <th>Birth Year</th>\n",
       "      <th>month</th>\n",
       "      <th>day_of_week</th>\n",
       "    </tr>\n",
       "  </thead>\n",
       "  <tbody>\n",
       "    <tr>\n",
       "      <th>37</th>\n",
       "      <td>395803</td>\n",
       "      <td>2017-03-24 15:35:55</td>\n",
       "      <td>2017-03-24 15:46:10</td>\n",
       "      <td>615</td>\n",
       "      <td>Dearborn St &amp; Erie St</td>\n",
       "      <td>State St &amp; Van Buren St</td>\n",
       "      <td>Subscriber</td>\n",
       "      <td>Male</td>\n",
       "      <td>1989.0</td>\n",
       "      <td>3</td>\n",
       "      <td>Friday</td>\n",
       "    </tr>\n",
       "    <tr>\n",
       "      <th>93</th>\n",
       "      <td>395735</td>\n",
       "      <td>2017-03-24 15:32:04</td>\n",
       "      <td>2017-03-24 15:52:53</td>\n",
       "      <td>1249</td>\n",
       "      <td>Sedgwick St &amp; Webster Ave</td>\n",
       "      <td>Western Ave &amp; Winnebago Ave</td>\n",
       "      <td>Subscriber</td>\n",
       "      <td>Female</td>\n",
       "      <td>1964.0</td>\n",
       "      <td>3</td>\n",
       "      <td>Friday</td>\n",
       "    </tr>\n",
       "    <tr>\n",
       "      <th>175</th>\n",
       "      <td>395402</td>\n",
       "      <td>2017-03-24 15:10:29</td>\n",
       "      <td>2017-03-24 15:19:44</td>\n",
       "      <td>555</td>\n",
       "      <td>Franklin St &amp; Monroe St</td>\n",
       "      <td>Aberdeen St &amp; Monroe St</td>\n",
       "      <td>Subscriber</td>\n",
       "      <td>Male</td>\n",
       "      <td>1987.0</td>\n",
       "      <td>3</td>\n",
       "      <td>Friday</td>\n",
       "    </tr>\n",
       "    <tr>\n",
       "      <th>190</th>\n",
       "      <td>393400</td>\n",
       "      <td>2017-03-24 12:29:30</td>\n",
       "      <td>2017-03-24 12:48:56</td>\n",
       "      <td>1166</td>\n",
       "      <td>Southport Ave &amp; Wellington Ave</td>\n",
       "      <td>Lake Shore Dr &amp; North Blvd</td>\n",
       "      <td>Subscriber</td>\n",
       "      <td>Female</td>\n",
       "      <td>1984.0</td>\n",
       "      <td>3</td>\n",
       "      <td>Friday</td>\n",
       "    </tr>\n",
       "    <tr>\n",
       "      <th>198</th>\n",
       "      <td>427496</td>\n",
       "      <td>2017-03-31 08:25:53</td>\n",
       "      <td>2017-03-31 08:39:09</td>\n",
       "      <td>796</td>\n",
       "      <td>Clinton St &amp; Jackson Blvd</td>\n",
       "      <td>Racine Ave (May St) &amp; Fulton St</td>\n",
       "      <td>Subscriber</td>\n",
       "      <td>Male</td>\n",
       "      <td>1983.0</td>\n",
       "      <td>3</td>\n",
       "      <td>Friday</td>\n",
       "    </tr>\n",
       "    <tr>\n",
       "      <th>...</th>\n",
       "      <td>...</td>\n",
       "      <td>...</td>\n",
       "      <td>...</td>\n",
       "      <td>...</td>\n",
       "      <td>...</td>\n",
       "      <td>...</td>\n",
       "      <td>...</td>\n",
       "      <td>...</td>\n",
       "      <td>...</td>\n",
       "      <td>...</td>\n",
       "      <td>...</td>\n",
       "    </tr>\n",
       "    <tr>\n",
       "      <th>299816</th>\n",
       "      <td>333246</td>\n",
       "      <td>2017-03-10 17:40:53</td>\n",
       "      <td>2017-03-10 17:44:59</td>\n",
       "      <td>246</td>\n",
       "      <td>Wells St &amp; Walton St</td>\n",
       "      <td>Rush St &amp; Cedar St</td>\n",
       "      <td>Subscriber</td>\n",
       "      <td>Female</td>\n",
       "      <td>1992.0</td>\n",
       "      <td>3</td>\n",
       "      <td>Friday</td>\n",
       "    </tr>\n",
       "    <tr>\n",
       "      <th>299839</th>\n",
       "      <td>392682</td>\n",
       "      <td>2017-03-24 11:17:50</td>\n",
       "      <td>2017-03-24 11:51:44</td>\n",
       "      <td>2034</td>\n",
       "      <td>Lake Shore Dr &amp; Monroe St</td>\n",
       "      <td>Streeter Dr &amp; Grand Ave</td>\n",
       "      <td>Customer</td>\n",
       "      <td>NaN</td>\n",
       "      <td>NaN</td>\n",
       "      <td>3</td>\n",
       "      <td>Friday</td>\n",
       "    </tr>\n",
       "    <tr>\n",
       "      <th>299860</th>\n",
       "      <td>290125</td>\n",
       "      <td>2017-03-03 12:19:29</td>\n",
       "      <td>2017-03-03 12:32:58</td>\n",
       "      <td>809</td>\n",
       "      <td>Aberdeen St &amp; Monroe St</td>\n",
       "      <td>Clark St &amp; 9th St (AMLI)</td>\n",
       "      <td>Subscriber</td>\n",
       "      <td>Male</td>\n",
       "      <td>1975.0</td>\n",
       "      <td>3</td>\n",
       "      <td>Friday</td>\n",
       "    </tr>\n",
       "    <tr>\n",
       "      <th>299865</th>\n",
       "      <td>288513</td>\n",
       "      <td>2017-03-03 07:26:48</td>\n",
       "      <td>2017-03-03 07:31:22</td>\n",
       "      <td>274</td>\n",
       "      <td>Damen Ave &amp; Melrose Ave</td>\n",
       "      <td>Lincoln Ave &amp; Roscoe St</td>\n",
       "      <td>Subscriber</td>\n",
       "      <td>Female</td>\n",
       "      <td>1981.0</td>\n",
       "      <td>3</td>\n",
       "      <td>Friday</td>\n",
       "    </tr>\n",
       "    <tr>\n",
       "      <th>299898</th>\n",
       "      <td>292757</td>\n",
       "      <td>2017-03-03 19:30:48</td>\n",
       "      <td>2017-03-03 19:34:52</td>\n",
       "      <td>244</td>\n",
       "      <td>Clark St &amp; Berwyn Ave</td>\n",
       "      <td>Broadway &amp; Berwyn Ave</td>\n",
       "      <td>Subscriber</td>\n",
       "      <td>Male</td>\n",
       "      <td>1980.0</td>\n",
       "      <td>3</td>\n",
       "      <td>Friday</td>\n",
       "    </tr>\n",
       "  </tbody>\n",
       "</table>\n",
       "<p>5813 rows × 11 columns</p>\n",
       "</div>"
      ],
      "text/plain": [
       "        Unnamed: 0          Start Time             End Time  Trip Duration  \\\n",
       "37          395803 2017-03-24 15:35:55  2017-03-24 15:46:10            615   \n",
       "93          395735 2017-03-24 15:32:04  2017-03-24 15:52:53           1249   \n",
       "175         395402 2017-03-24 15:10:29  2017-03-24 15:19:44            555   \n",
       "190         393400 2017-03-24 12:29:30  2017-03-24 12:48:56           1166   \n",
       "198         427496 2017-03-31 08:25:53  2017-03-31 08:39:09            796   \n",
       "...            ...                 ...                  ...            ...   \n",
       "299816      333246 2017-03-10 17:40:53  2017-03-10 17:44:59            246   \n",
       "299839      392682 2017-03-24 11:17:50  2017-03-24 11:51:44           2034   \n",
       "299860      290125 2017-03-03 12:19:29  2017-03-03 12:32:58            809   \n",
       "299865      288513 2017-03-03 07:26:48  2017-03-03 07:31:22            274   \n",
       "299898      292757 2017-03-03 19:30:48  2017-03-03 19:34:52            244   \n",
       "\n",
       "                         Start Station                      End Station  \\\n",
       "37               Dearborn St & Erie St          State St & Van Buren St   \n",
       "93           Sedgwick St & Webster Ave      Western Ave & Winnebago Ave   \n",
       "175            Franklin St & Monroe St          Aberdeen St & Monroe St   \n",
       "190     Southport Ave & Wellington Ave       Lake Shore Dr & North Blvd   \n",
       "198          Clinton St & Jackson Blvd  Racine Ave (May St) & Fulton St   \n",
       "...                                ...                              ...   \n",
       "299816            Wells St & Walton St               Rush St & Cedar St   \n",
       "299839       Lake Shore Dr & Monroe St          Streeter Dr & Grand Ave   \n",
       "299860         Aberdeen St & Monroe St         Clark St & 9th St (AMLI)   \n",
       "299865         Damen Ave & Melrose Ave          Lincoln Ave & Roscoe St   \n",
       "299898           Clark St & Berwyn Ave            Broadway & Berwyn Ave   \n",
       "\n",
       "         User Type  Gender  Birth Year  month day_of_week  \n",
       "37      Subscriber    Male      1989.0      3      Friday  \n",
       "93      Subscriber  Female      1964.0      3      Friday  \n",
       "175     Subscriber    Male      1987.0      3      Friday  \n",
       "190     Subscriber  Female      1984.0      3      Friday  \n",
       "198     Subscriber    Male      1983.0      3      Friday  \n",
       "...            ...     ...         ...    ...         ...  \n",
       "299816  Subscriber  Female      1992.0      3      Friday  \n",
       "299839    Customer     NaN         NaN      3      Friday  \n",
       "299860  Subscriber    Male      1975.0      3      Friday  \n",
       "299865  Subscriber  Female      1981.0      3      Friday  \n",
       "299898  Subscriber    Male      1980.0      3      Friday  \n",
       "\n",
       "[5813 rows x 11 columns]"
      ]
     },
     "execution_count": 32,
     "metadata": {},
     "output_type": "execute_result"
    }
   ],
   "source": [
    "df"
   ]
  },
  {
   "cell_type": "code",
   "execution_count": 36,
   "id": "2742f2b8",
   "metadata": {},
   "outputs": [
    {
     "name": "stdout",
     "output_type": "stream",
     "text": [
      "Would you like to see the data for chicago, new york city or washington\n",
      "KIRAN\n"
     ]
    }
   ],
   "source": [
    "\n",
    "c = input('Would you like to see the data for chicago, new york city or washington\\n').lower()"
   ]
  },
  {
   "cell_type": "code",
   "execution_count": 37,
   "id": "921571df",
   "metadata": {},
   "outputs": [
    {
     "data": {
      "text/plain": [
       "'kiran'"
      ]
     },
     "execution_count": 37,
     "metadata": {},
     "output_type": "execute_result"
    }
   ],
   "source": [
    "c"
   ]
  },
  {
   "cell_type": "code",
   "execution_count": 38,
   "id": "a8466ade",
   "metadata": {},
   "outputs": [
    {
     "name": "stdout",
     "output_type": "stream",
     "text": [
      "Would you like to see the data for Chicago, New York or Washington?\n",
      "kiran\n"
     ]
    }
   ],
   "source": [
    "    while True:\n",
    "        try:\n",
    "            city = input('Would you like to see the data for Chicago, New York or Washington?\\n').lower()\n",
    "            break\n",
    "        except:\n",
    "            print('That is not a valid input! Try again\\n')"
   ]
  },
  {
   "cell_type": "code",
   "execution_count": 6,
   "id": "786fe3db",
   "metadata": {},
   "outputs": [
    {
     "name": "stdout",
     "output_type": "stream",
     "text": [
      "Enter a city name: chicago\n",
      "City name found!\n"
     ]
    }
   ],
   "source": [
    "CITY_DATA = { \n",
    "    'chicago': 'chicago.csv', \n",
    "    'new york': 'new_york_city.csv', \n",
    "    'washington': 'washington.csv' \n",
    "}\n",
    "\n",
    "while True:\n",
    "    try:\n",
    "        city = input(\"Enter a city name: \").lower()\n",
    "        assert city in CITY_DATA.keys()\n",
    "        print(\"City name found!\")\n",
    "        break\n",
    "    except:\n",
    "        print('Invalid Data! Try again')\n"
   ]
  },
  {
   "cell_type": "code",
   "execution_count": null,
   "id": "69cbe520",
   "metadata": {},
   "outputs": [],
   "source": [
    "l"
   ]
  },
  {
   "cell_type": "code",
   "execution_count": 7,
   "id": "c1a5093a",
   "metadata": {},
   "outputs": [],
   "source": [
    "df = pd.read_csv(CITY_DATA[city])"
   ]
  },
  {
   "cell_type": "code",
   "execution_count": 9,
   "id": "73e1f1bb",
   "metadata": {},
   "outputs": [],
   "source": [
    "new_df = df['Start Station']"
   ]
  },
  {
   "cell_type": "code",
   "execution_count": 10,
   "id": "c28fe10a",
   "metadata": {},
   "outputs": [
    {
     "data": {
      "text/plain": [
       "0                  Wood St & Hubbard St\n",
       "1                   Theater on the Lake\n",
       "2                    May St & Taylor St\n",
       "3         Christiana Ave & Lawrence Ave\n",
       "4                Clark St & Randolph St\n",
       "                      ...              \n",
       "299995          Orleans St & Elm St (*)\n",
       "299996       Ashland Ave & Blackhawk St\n",
       "299997    Ravenswood Ave & Lawrence Ave\n",
       "299998        Sheffield Ave & Willow St\n",
       "299999        Wacker Dr & Washington St\n",
       "Name: Start Station, Length: 300000, dtype: object"
      ]
     },
     "execution_count": 10,
     "metadata": {},
     "output_type": "execute_result"
    }
   ],
   "source": [
    "new_df"
   ]
  },
  {
   "cell_type": "code",
   "execution_count": 33,
   "id": "8b48c9e9",
   "metadata": {},
   "outputs": [],
   "source": [
    "new = df[['Start Station', 'End Station']].copy()"
   ]
  },
  {
   "cell_type": "code",
   "execution_count": 34,
   "id": "38706e73",
   "metadata": {},
   "outputs": [
    {
     "name": "stderr",
     "output_type": "stream",
     "text": [
      "C:\\Users\\Kiran\\AppData\\Local\\Temp\\ipykernel_15076\\1074169185.py:1: FutureWarning: this method is deprecated in favour of `Styler.hide(axis='index')`\n",
      "  new = new.style.hide_index()\n"
     ]
    }
   ],
   "source": [
    "new = new.style.hide_index()"
   ]
  },
  {
   "cell_type": "code",
   "execution_count": 37,
   "id": "5e0814b0",
   "metadata": {},
   "outputs": [
    {
     "ename": "AttributeError",
     "evalue": "'Styler' object has no attribute 'mode'",
     "output_type": "error",
     "traceback": [
      "\u001b[1;31m---------------------------------------------------------------------------\u001b[0m",
      "\u001b[1;31mAttributeError\u001b[0m                            Traceback (most recent call last)",
      "\u001b[1;32m~\\AppData\\Local\\Temp\\ipykernel_15076\\1549968260.py\u001b[0m in \u001b[0;36m<module>\u001b[1;34m\u001b[0m\n\u001b[1;32m----> 1\u001b[1;33m \u001b[0mpopular_se_station\u001b[0m \u001b[1;33m=\u001b[0m \u001b[0mnew\u001b[0m\u001b[1;33m.\u001b[0m\u001b[0mmode\u001b[0m\u001b[1;33m(\u001b[0m\u001b[1;33m)\u001b[0m\u001b[1;33m\u001b[0m\u001b[1;33m\u001b[0m\u001b[0m\n\u001b[0m",
      "\u001b[1;31mAttributeError\u001b[0m: 'Styler' object has no attribute 'mode'"
     ]
    }
   ],
   "source": [
    "popular_se_station = new.mode()\n"
   ]
  },
  {
   "cell_type": "code",
   "execution_count": 29,
   "id": "f2deb10d",
   "metadata": {},
   "outputs": [
    {
     "data": {
      "text/html": [
       "<div>\n",
       "<style scoped>\n",
       "    .dataframe tbody tr th:only-of-type {\n",
       "        vertical-align: middle;\n",
       "    }\n",
       "\n",
       "    .dataframe tbody tr th {\n",
       "        vertical-align: top;\n",
       "    }\n",
       "\n",
       "    .dataframe thead th {\n",
       "        text-align: right;\n",
       "    }\n",
       "</style>\n",
       "<table border=\"1\" class=\"dataframe\">\n",
       "  <thead>\n",
       "    <tr style=\"text-align: right;\">\n",
       "      <th></th>\n",
       "      <th>Start Station</th>\n",
       "      <th>End Station</th>\n",
       "    </tr>\n",
       "  </thead>\n",
       "  <tbody>\n",
       "    <tr>\n",
       "      <th>0</th>\n",
       "      <td>Streeter Dr &amp; Grand Ave</td>\n",
       "      <td>Streeter Dr &amp; Grand Ave</td>\n",
       "    </tr>\n",
       "  </tbody>\n",
       "</table>\n",
       "</div>"
      ],
      "text/plain": [
       "             Start Station              End Station\n",
       "0  Streeter Dr & Grand Ave  Streeter Dr & Grand Ave"
      ]
     },
     "execution_count": 29,
     "metadata": {},
     "output_type": "execute_result"
    }
   ],
   "source": [
    "popular_se_station"
   ]
  },
  {
   "cell_type": "code",
   "execution_count": 30,
   "id": "79f9461d",
   "metadata": {},
   "outputs": [
    {
     "name": "stdout",
     "output_type": "stream",
     "text": [
      "Most Popular trip from start to end: 0    Streeter Dr & Grand Ave\n",
      "Name: Start Station, dtype: object 0    Streeter Dr & Grand Ave\n",
      "Name: End Station, dtype: object\n"
     ]
    }
   ],
   "source": [
    " print('Most Popular trip from start to end:', popular_se_station['Start Station'], popular_se_station['End Station'])\n"
   ]
  },
  {
   "cell_type": "code",
   "execution_count": 39,
   "id": "68d01c37",
   "metadata": {},
   "outputs": [
    {
     "name": "stdout",
     "output_type": "stream",
     "text": [
      "Most Popular trip from start to end: Lake Shore Dr & Monroe St - Streeter Dr & Grand Ave\n"
     ]
    }
   ],
   "source": [
    "    df['trip'] = df['Start Station'] + ' - ' + df['End Station']\n",
    "    most_frequent_trip = df['trip'].mode()[0]\n",
    "    print('Most Popular trip from start to end:', most_frequent_trip)\n",
    "    "
   ]
  },
  {
   "cell_type": "code",
   "execution_count": 43,
   "id": "c4dc347d",
   "metadata": {},
   "outputs": [],
   "source": [
    "    df['Start Time'] = pd.to_datetime(df['Start Time'])\n",
    "    df['End Time'] = pd.to_datetime(df['End Time'])  \n",
    "    df['total travel time'] = df['End Time'] - df['Start Time']\n",
    "    total = df['total travel time'].sum()"
   ]
  },
  {
   "cell_type": "code",
   "execution_count": 44,
   "id": "878c5435",
   "metadata": {},
   "outputs": [
    {
     "data": {
      "text/plain": [
       "Timedelta('3250 days 21:56:27')"
      ]
     },
     "execution_count": 44,
     "metadata": {},
     "output_type": "execute_result"
    }
   ],
   "source": [
    "total"
   ]
  },
  {
   "cell_type": "code",
   "execution_count": 45,
   "id": "150d7321",
   "metadata": {},
   "outputs": [
    {
     "name": "stdout",
     "output_type": "stream",
     "text": [
      "280878987.0\n"
     ]
    }
   ],
   "source": [
    "\n",
    "seconds = total.total_seconds()\n",
    "print(seconds)"
   ]
  },
  {
   "cell_type": "code",
   "execution_count": 46,
   "id": "53e6724e",
   "metadata": {},
   "outputs": [
    {
     "ename": "NameError",
     "evalue": "name 'total_travel_time' is not defined",
     "output_type": "error",
     "traceback": [
      "\u001b[1;31m---------------------------------------------------------------------------\u001b[0m",
      "\u001b[1;31mNameError\u001b[0m                                 Traceback (most recent call last)",
      "\u001b[1;32m~\\AppData\\Local\\Temp\\ipykernel_15076\\556371318.py\u001b[0m in \u001b[0;36m<module>\u001b[1;34m\u001b[0m\n\u001b[0;32m      1\u001b[0m \u001b[0mmean_travel_time\u001b[0m \u001b[1;33m=\u001b[0m \u001b[0mdf\u001b[0m\u001b[1;33m[\u001b[0m\u001b[1;34m'total travel time'\u001b[0m\u001b[1;33m]\u001b[0m\u001b[1;33m.\u001b[0m\u001b[0mmean\u001b[0m\u001b[1;33m(\u001b[0m\u001b[1;33m)\u001b[0m\u001b[1;33m\u001b[0m\u001b[1;33m\u001b[0m\u001b[0m\n\u001b[1;32m----> 2\u001b[1;33m \u001b[0mmean_seconds\u001b[0m \u001b[1;33m=\u001b[0m \u001b[0mtotal_travel_time\u001b[0m\u001b[1;33m.\u001b[0m\u001b[0mtotal_seconds\u001b[0m\u001b[1;33m(\u001b[0m\u001b[1;33m)\u001b[0m\u001b[1;33m\u001b[0m\u001b[1;33m\u001b[0m\u001b[0m\n\u001b[0m\u001b[0;32m      3\u001b[0m \u001b[0mprint\u001b[0m\u001b[1;33m(\u001b[0m\u001b[1;34m\"Average Travel Time\"\u001b[0m\u001b[1;33m,\u001b[0m \u001b[0mmean_seconds\u001b[0m\u001b[1;33m)\u001b[0m\u001b[1;33m\u001b[0m\u001b[1;33m\u001b[0m\u001b[0m\n\u001b[0;32m      4\u001b[0m \u001b[1;33m\u001b[0m\u001b[0m\n",
      "\u001b[1;31mNameError\u001b[0m: name 'total_travel_time' is not defined"
     ]
    }
   ],
   "source": [
    "    mean_travel_time = df['total travel time'].mean()\n",
    "    mean_seconds = total_travel_time.total_seconds()\n",
    "    print(\"Average Travel Time\", mean_seconds)\n",
    "    "
   ]
  },
  {
   "cell_type": "code",
   "execution_count": 52,
   "id": "ecd8775e",
   "metadata": {},
   "outputs": [
    {
     "data": {
      "text/plain": [
       "2016.0"
      ]
     },
     "execution_count": 52,
     "metadata": {},
     "output_type": "execute_result"
    }
   ],
   "source": [
    "df['Birth Year'].max()"
   ]
  },
  {
   "cell_type": "code",
   "execution_count": 53,
   "id": "19dadc24",
   "metadata": {},
   "outputs": [
    {
     "data": {
      "text/plain": [
       "1899.0"
      ]
     },
     "execution_count": 53,
     "metadata": {},
     "output_type": "execute_result"
    }
   ],
   "source": [
    "df['Birth Year'].min()\n"
   ]
  },
  {
   "cell_type": "code",
   "execution_count": 54,
   "id": "7153e25e",
   "metadata": {},
   "outputs": [
    {
     "name": "stdout",
     "output_type": "stream",
     "text": [
      "Most Popular Month: 1989.0\n"
     ]
    }
   ],
   "source": [
    "    popular_year = df['Birth Year'].mode()[0]\n",
    "    print('Most Popular Month:', popular_year)"
   ]
  },
  {
   "cell_type": "code",
   "execution_count": 57,
   "id": "6e03a606",
   "metadata": {},
   "outputs": [
    {
     "name": "stdout",
     "output_type": "stream",
     "text": [
      "Oldest, Youngest and Most Popular Year of Birth : 1899.0, 2016.0, 1989.0\n"
     ]
    }
   ],
   "source": [
    "    print(\"Oldest, Youngest and Most Popular Year of Birth : {}, {}, {}\".format(df['Birth Year'].min(), df['Birth Year'].max(), df['Birth Year'].mode()[0]))"
   ]
  },
  {
   "cell_type": "code",
   "execution_count": null,
   "id": "fdfbce6a",
   "metadata": {},
   "outputs": [],
   "source": []
  }
 ],
 "metadata": {
  "kernelspec": {
   "display_name": "Python 3 (ipykernel)",
   "language": "python",
   "name": "python3"
  },
  "language_info": {
   "codemirror_mode": {
    "name": "ipython",
    "version": 3
   },
   "file_extension": ".py",
   "mimetype": "text/x-python",
   "name": "python",
   "nbconvert_exporter": "python",
   "pygments_lexer": "ipython3",
   "version": "3.9.13"
  }
 },
 "nbformat": 4,
 "nbformat_minor": 5
}
